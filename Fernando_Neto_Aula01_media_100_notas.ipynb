{
  "nbformat": 4,
  "nbformat_minor": 0,
  "metadata": {
    "colab": {
      "name": "Fernando_Neto_Aula01_media_100_notas.ipynb",
      "provenance": [],
      "toc_visible": true,
      "authorship_tag": "ABX9TyPyTw+H3jEG2R9JpL5DVYDv",
      "include_colab_link": true
    },
    "kernelspec": {
      "name": "python3",
      "display_name": "Python 3"
    }
  },
  "cells": [
    {
      "cell_type": "markdown",
      "metadata": {
        "id": "view-in-github",
        "colab_type": "text"
      },
      "source": [
        "<a href=\"https://colab.research.google.com/github/fernandonetom/curso-python-e-octave/blob/master/Fernando_Neto_Aula01_media_100_notas.ipynb\" target=\"_parent\"><img src=\"https://colab.research.google.com/assets/colab-badge.svg\" alt=\"Open In Colab\"/></a>"
      ]
    },
    {
      "cell_type": "markdown",
      "metadata": {
        "id": "eZWPpZ98WvXV",
        "colab_type": "text"
      },
      "source": [
        "# Exercício - aula 01\n",
        "#### Média de 100 notas utilizando a importação do arquivo fornecido pelo curso."
      ]
    },
    {
      "cell_type": "code",
      "metadata": {
        "id": "5HjxHFvEggCg",
        "colab_type": "code",
        "outputId": "0454031c-53b5-4871-cd62-1b0fa3583c10",
        "colab": {
          "base_uri": "https://localhost:8080/",
          "height": 34
        }
      },
      "source": [
        "data = open(\"/content/notas.txt\",\"r\") #File import\n",
        "\n",
        "#Setting the variables\n",
        "sum = 0.0\n",
        "count = 0.0\n",
        "\n",
        "for dado in data:\n",
        "  nota = dado.strip() #Remove spaces of each data\n",
        "  if nota != '': #If isn't void data\n",
        "    sum += float(nota) #Increase the sum\n",
        "    count += 1 #Increase the counter\n",
        "\n",
        "print(\"A média é:\", sum/count) #Print the result"
      ],
      "execution_count": 0,
      "outputs": [
        {
          "output_type": "stream",
          "text": [
            "A média é: 4.7538\n"
          ],
          "name": "stdout"
        }
      ]
    }
  ]
}